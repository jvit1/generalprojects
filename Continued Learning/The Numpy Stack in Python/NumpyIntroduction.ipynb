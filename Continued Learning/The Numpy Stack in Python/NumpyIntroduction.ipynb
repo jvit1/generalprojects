{
 "cells": [
  {
   "cell_type": "markdown",
   "metadata": {},
   "source": [
    "# Numpy Introduction\n",
    "1) What does it do?\n",
    "\n",
    "2) Why do we need it?\n",
    "\n",
    "Numpy can be used for linear, logistic regression, deep neural networks, k means clustering, density estimation, principal components analysis, matrix factorization, support vector machines, markov models, control suystems, game theory, operaitons research, portfolio optimization."
   ]
  }
 ],
 "metadata": {
  "kernelspec": {
   "display_name": "Python 3",
   "language": "python",
   "name": "python3"
  },
  "language_info": {
   "codemirror_mode": {
    "name": "ipython",
    "version": 3
   },
   "file_extension": ".py",
   "mimetype": "text/x-python",
   "name": "python",
   "nbconvert_exporter": "python",
   "pygments_lexer": "ipython3",
   "version": "3.8.3"
  }
 },
 "nbformat": 4,
 "nbformat_minor": 4
}
