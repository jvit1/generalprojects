{
 "cells": [
  {
   "cell_type": "markdown",
   "metadata": {},
   "source": [
    "# Probability and Bayes' Review\n",
    "\n",
    "Marginal Distributions: $p(A), p(B)$\n",
    "<br>\n",
    "Joint Distribution: $p(A,B)$\n",
    "<br>\n",
    "Conditional Distribution: $p(A|B), p(B|A)$\n",
    "<br>\n",
    "\n",
    "Conditional distribution formula:\n",
    "<br>\n",
    "$p(A|B)=\\frac{p(A,B)}{p(B)}$\n",
    "\n",
    "### Discrete vs Continuous Random Variables\n",
    "-  p() is now a probability density (NOT probability)\n",
    "<br>\n",
    "Joint: $p(x,y)$\n",
    "Marginal: $p(x) = \\int p(x,y) dy$\n",
    "\n",
    "#### Bayes' Rule\n",
    "$p(x|y) = \\frac{p(y|x) p(x)}{\\int p(y|x) p(x) dx} $"
   ]
  },
  {
   "cell_type": "markdown",
   "metadata": {},
   "source": [
    "## Maximum Likelihood Estimation\n",
    "\n",
    "#### The Bernoulli Distribution \n",
    "- Describes a coin toss. But what is the equation?\n",
    "- Discrete random variable\n",
    "- PMF (Probability mass function)\n",
    "\n",
    "$p(x) = \\theta ^x (1- \\theta)^{1-x} $\n",
    "\n",
    "- x can only take the values of 0 or 1 (like heads or tails)\n",
    "- theta is also the probability that x=1\n",
    "\n",
    "What is the likelihood a function of?\n",
    "- The variable is theta\n",
    "\n",
    "Why is it called a maximum likelihood?\n",
    "- What value of theta maximizes the likelihood?\n",
    "- What value of theta makes the data we collected most probable?\n",
    "\n",
    "To maximize, we want to take the derivative of L with respect to theta. Then we will set this to zero. Shoutout calculus. However, it's sometimes easier to take the log of likelihood before differentiating.\n",
    "\n",
    "This is best applied to click-through rates.\n",
    "- Probability that user clicks on a link\n",
    "- Probability user buys a product\n",
    "- BINARY EVENTS!\n",
    "\n",
    "Formulas:\n",
    "Click Through Rate (CTR) = $\\frac{n * clicks}{n * impressions}$\n",
    "\n",
    "Conversion Rate = $\\frac{n* desired action}{n*page visits}$\n",
    "\n",
    "#### The Gausian Distribution\n",
    "Also known as the normal distribution\n",
    "\n",
    "This can be used for ratings or anything without a binary outcome, time user spends on webpage, etc\n",
    "\n"
   ]
  },
  {
   "cell_type": "markdown",
   "metadata": {},
   "source": [
    "# Probability Review In Code"
   ]
  },
  {
   "cell_type": "code",
   "execution_count": 3,
   "metadata": {},
   "outputs": [],
   "source": [
    "import numpy as np\n",
    "import matplotlib.pyplot as plt\n",
    "from scipy.stats import norm\n",
    "np.random.seed(0)"
   ]
  },
  {
   "cell_type": "code",
   "execution_count": 4,
   "metadata": {},
   "outputs": [],
   "source": [
    "mu = 170\n",
    "sd = 7"
   ]
  },
  {
   "cell_type": "code",
   "execution_count": 5,
   "metadata": {},
   "outputs": [],
   "source": [
    "# generate samples from our distribution\n",
    "x = norm.rvs(loc=mu, scale=sd, size=100)"
   ]
  },
  {
   "cell_type": "code",
   "execution_count": 6,
   "metadata": {},
   "outputs": [
    {
     "data": {
      "text/plain": [
       "170.41865610874137"
      ]
     },
     "execution_count": 6,
     "metadata": {},
     "output_type": "execute_result"
    }
   ],
   "source": [
    "x.mean()"
   ]
  },
  {
   "cell_type": "code",
   "execution_count": 7,
   "metadata": {},
   "outputs": [
    {
     "data": {
      "text/plain": [
       "49.77550434153163"
      ]
     },
     "execution_count": 7,
     "metadata": {},
     "output_type": "execute_result"
    }
   ],
   "source": [
    "x.var()"
   ]
  },
  {
   "cell_type": "code",
   "execution_count": 8,
   "metadata": {},
   "outputs": [
    {
     "data": {
      "text/plain": [
       "7.055175713016057"
      ]
     },
     "execution_count": 8,
     "metadata": {},
     "output_type": "execute_result"
    }
   ],
   "source": [
    "x.std()"
   ]
  },
  {
   "cell_type": "code",
   "execution_count": 9,
   "metadata": {},
   "outputs": [
    {
     "data": {
      "text/plain": [
       "181.5139753886603"
      ]
     },
     "execution_count": 9,
     "metadata": {},
     "output_type": "execute_result"
    }
   ],
   "source": [
    "# at what height are you in the 95th percentile?\n",
    "norm.ppf(.95, loc=mu, scale=sd)"
   ]
  },
  {
   "cell_type": "code",
   "execution_count": 10,
   "metadata": {},
   "outputs": [
    {
     "data": {
      "text/plain": [
       "0.07656372550983476"
      ]
     },
     "execution_count": 10,
     "metadata": {},
     "output_type": "execute_result"
    }
   ],
   "source": [
    "# if you are 160 cm tall, what percentile are you in?\n",
    "norm.cdf(160, loc=mu, scale=sd)"
   ]
  },
  {
   "cell_type": "code",
   "execution_count": 11,
   "metadata": {},
   "outputs": [
    {
     "data": {
      "text/plain": [
       "0.07656372550983481"
      ]
     },
     "execution_count": 11,
     "metadata": {},
     "output_type": "execute_result"
    }
   ],
   "source": [
    "# if you are 180 cm tall, what is the probability that someone is taller than you?\n",
    "1 - norm.cdf(180, loc=mu, scale=sd)"
   ]
  },
  {
   "cell_type": "code",
   "execution_count": 12,
   "metadata": {},
   "outputs": [
    {
     "data": {
      "text/plain": [
       "0.07656372550983476"
      ]
     },
     "execution_count": 12,
     "metadata": {},
     "output_type": "execute_result"
    }
   ],
   "source": [
    "norm.sf(180, loc=mu, scale=sd)"
   ]
  }
 ],
 "metadata": {
  "kernelspec": {
   "display_name": "Python 3",
   "language": "python",
   "name": "python3"
  },
  "language_info": {
   "codemirror_mode": {
    "name": "ipython",
    "version": 3
   },
   "file_extension": ".py",
   "mimetype": "text/x-python",
   "name": "python",
   "nbconvert_exporter": "python",
   "pygments_lexer": "ipython3",
   "version": "3.8.3"
  }
 },
 "nbformat": 4,
 "nbformat_minor": 4
}
