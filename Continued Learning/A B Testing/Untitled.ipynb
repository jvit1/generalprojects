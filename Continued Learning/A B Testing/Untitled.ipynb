{
 "cells": [
  {
   "cell_type": "markdown",
   "metadata": {},
   "source": [
    "# Probability and Bayes' Review\n",
    "\n",
    "Marginal Distributions: $p(A), p(B)$\n",
    "<br>\n",
    "Joint Distribution: $p(A,B)$\n",
    "<br>\n",
    "Conditional Distribution: $p(A|B), p(B|A)$\n",
    "<br>\n",
    "\n",
    "Conditional distribution formula:\n",
    "<br>\n",
    "$p(A|B)=\\frac{p(A,B)}{p(B)}$\n",
    "\n",
    "### Discrete vs Continuous Random Variables\n",
    "-  p() is now a probability density (NOT probability)\n",
    "<br>\n",
    "Joint: $p(x,y)$\n",
    "Marginal: $p(x) = \\int p(x,y) dy$\n",
    "\n",
    "#### Bayes' Rule\n",
    "$p(x|y) = \\frac{p(y|x) p(x)}{\\int p(y|x) p(x) dx} $"
   ]
  },
  {
   "cell_type": "code",
   "execution_count": null,
   "metadata": {},
   "outputs": [],
   "source": []
  }
 ],
 "metadata": {
  "kernelspec": {
   "display_name": "Python 3",
   "language": "python",
   "name": "python3"
  },
  "language_info": {
   "codemirror_mode": {
    "name": "ipython",
    "version": 3
   },
   "file_extension": ".py",
   "mimetype": "text/x-python",
   "name": "python",
   "nbconvert_exporter": "python",
   "pygments_lexer": "ipython3",
   "version": "3.8.3"
  }
 },
 "nbformat": 4,
 "nbformat_minor": 4
}
